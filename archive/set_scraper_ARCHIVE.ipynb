{
 "cells": [
  {
   "cell_type": "code",
   "execution_count": 42,
   "metadata": {},
   "outputs": [],
   "source": [
    "from selenium import webdriver\n",
    "from selenium.webdriver.common.by import By\n",
    "from selenium.webdriver import ActionChains\n",
    "import time\n",
    "from selenium.webdriver.remote.errorhandler import ElementNotInteractableException\n",
    "from selenium.webdriver.chrome.options import Options\n",
    "\n",
    "chop = webdriver.ChromeOptions()\n",
    "chop.add_extension(\"/Users/johncabrahams/Downloads/gighmmpiobklfepjocnamgkkbiglidom.crx\")\n",
    "# Initialize the Chrome driver\n",
    "driver = webdriver.Chrome(options = chop)"
   ]
  },
  {
   "cell_type": "code",
   "execution_count": 43,
   "metadata": {},
   "outputs": [],
   "source": [
    "target_url = \"https://www.1001tracklists.com/tracklist/2q5y06k9/alesso-mainstage-creamfields-chile-2024-11-17.html\""
   ]
  },
  {
   "cell_type": "code",
   "execution_count": 44,
   "metadata": {},
   "outputs": [],
   "source": [
    "chld = driver.window_handles[1]\n",
    "driver.switch_to.window(chld)\n",
    "driver.close\n",
    "\n",
    "current_tab=driver.window_handles[0]\n",
    "driver.switch_to.window(current_tab)\n",
    "driver.get(target_url)\n",
    "time.sleep(2)"
   ]
  },
  {
   "cell_type": "markdown",
   "metadata": {},
   "source": [
    "We would like to do n things:\n",
    "1. Get the metadata corresponding to the module we are parsing\n",
    "2. "
   ]
  },
  {
   "cell_type": "code",
   "execution_count": 22,
   "metadata": {},
   "outputs": [],
   "source": [
    "moduleMetaDataElements = driver.find_elements(\"xpath\", \"//body[@id='body']//meta\")\n",
    "relevantMetaDataTypes = [\"name\", \"datePublished\", \"numTracks\", \"genre\"]\n",
    "irrelevantMetaDataValues = ['tracklist', '1001Tracklists', 'YouTube video']\n",
    "moduleMetaDataRelevantInfo = [metadata for metadata in moduleMetaDataElements if metadata.get_attribute(\"itemprop\") in relevantMetaDataTypes and metadata.get_attribute(\"content\") not in irrelevantMetaDataValues]"
   ]
  },
  {
   "cell_type": "code",
   "execution_count": 85,
   "metadata": {},
   "outputs": [
    {
     "data": {
      "text/plain": [
       "{}"
      ]
     },
     "execution_count": 85,
     "metadata": {},
     "output_type": "execute_result"
    }
   ],
   "source": [
    "moduleMetaData = [(metadata.get_attribute(\"itemprop\"), metadata.get_attribute(\"content\")) for metadata in moduleMetaDataRelevantInfo][0:5]\n",
    "moduleMetaDataDict = {k : v for k, v in moduleMetaData}\n",
    "moduleMetaDataDict"
   ]
  },
  {
   "cell_type": "code",
   "execution_count": 66,
   "metadata": {},
   "outputs": [
    {
     "data": {
      "text/plain": [
       "[('name', 'Alesso @ Mainstage, Creamfields Chile 2024-11-17'),\n",
       " ('name', 'Alesso @ Mainstage, Creamfields Chile 2024-11-17')]"
      ]
     },
     "execution_count": 66,
     "metadata": {},
     "output_type": "execute_result"
    }
   ],
   "source": [
    "[d for d in moduleMetaData if d[0] == 'name']"
   ]
  },
  {
   "cell_type": "code",
   "execution_count": 8,
   "metadata": {},
   "outputs": [],
   "source": [
    "# Get all the click elements\n",
    "soundcloudClickElements = driver.find_elements(By.CLASS_NAME, \"fa-soundcloud\")\n",
    "youtubeClickElements = driver.find_elements(By.CLASS_NAME, \"fa-youtube-play\")\n",
    "spotifyClickElements = driver.find_elements(By.CLASS_NAME, \"fa-spotify\")\n",
    "appleClickElements = driver.find_elements(By.CLASS_NAME, \"fa-apple\")"
   ]
  },
  {
   "cell_type": "code",
   "execution_count": 45,
   "metadata": {},
   "outputs": [],
   "source": [
    "visible_song_atoms = driver.find_elements(By.CLASS_NAME, \"tlpTog\")\n",
    "invisible_song_atoms = driver.find_elements(By.CLASS_NAME, \"tlpSubTog\")"
   ]
  },
  {
   "cell_type": "markdown",
   "metadata": {},
   "source": [
    "Give yourself roughly 10 hours for all of alesso's sets. TBD whether in parallel or not. Most likely not?\n",
    "Given the list of set urls, create batches of urls to parse, and pickle them. Save them into a data folder. "
   ]
  },
  {
   "cell_type": "code",
   "execution_count": 46,
   "metadata": {},
   "outputs": [
    {
     "name": "stdout",
     "output_type": "stream",
     "text": [
      "01\n",
      "3\n",
      "w/\n",
      "3\n",
      "02\n",
      "3\n",
      "03\n",
      "3\n",
      "04\n",
      "1\n",
      "w/\n",
      "3\n",
      "05\n",
      "3\n",
      "w/\n",
      "3\n",
      "06\n",
      "3\n",
      "07\n",
      "3\n",
      "08\n",
      "3\n",
      "09\n",
      "1\n",
      "10\n",
      "3\n",
      "w/\n",
      "3\n",
      "w/\n",
      "3\n",
      "11\n",
      "1\n",
      "w/\n",
      "3\n",
      "12\n",
      "1\n",
      "13\n",
      "3\n",
      "14\n",
      "1\n",
      "15\n",
      "1\n",
      "16\n",
      "3\n",
      "17\n",
      "3\n",
      "w/\n",
      "3\n",
      "18\n",
      "3\n",
      "19\n",
      "3\n",
      "w/\n",
      "3\n",
      "20\n",
      "3\n",
      "w/\n",
      "3\n",
      "21\n",
      "1\n",
      "22\n",
      "3\n",
      "23\n",
      "3\n",
      "24\n",
      "1\n",
      "25\n",
      "3\n",
      "w/\n",
      "3\n",
      "26\n",
      "1\n",
      "27\n",
      "1\n",
      "28\n",
      "3\n"
     ]
    }
   ],
   "source": [
    "link_classes = [\"fa-soundcloud\", \"fa-youtube-play\", \"fa-spotify\", \"fa-apple\"]\n",
    "link_classes_reduced = [\"soundcloud\", \"youtube\", \"spotify\", \"apple\"]\n",
    "\n",
    "links_indices = []\n",
    "priorEl = None\n",
    "for visible_song_atom in visible_song_atoms:\n",
    "    ActionChains(driver).scroll_by_amount(0, -300).perform()\n",
    "    time.sleep(2)\n",
    "    ActionChains(driver).scroll_to_element(visible_song_atom).perform()\n",
    "    time.sleep(2)\n",
    "    ActionChains(driver).scroll_by_amount(0, 300).perform()\n",
    "    time.sleep(2)\n",
    "    links = [visible_song_atom.find_elements(By.CLASS_NAME, link) for link in link_classes]\n",
    "    links_reduced = [link for link in links if link != []]\n",
    "    if links_reduced == []:\n",
    "        continue\n",
    "    links_reduced = [link[0] for link in links_reduced]\n",
    "    print(str(visible_song_atom.find_element(By.TAG_NAME, \"span\").text))\n",
    "    print(len(links_reduced))\n",
    "    all_actual_links = []\n",
    "\n",
    "    for link in links_reduced:\n",
    "        try:\n",
    "            link.click()\n",
    "        except ElementNotInteractableException:\n",
    "            continue\n",
    "        time.sleep(2)\n",
    "        \n",
    "        if not link.get_attribute(\"onclick\"):\n",
    "            continue\n",
    "        link_window = driver.find_element(By.CLASS_NAME, \"mP\") # f border rB\")\n",
    "        link_close_button = link_window.find_element(By.CLASS_NAME, \"close\")\n",
    "        actual_link = link_window.find_element(By.TAG_NAME, 'iframe').get_attribute(\"src\")\n",
    "        all_actual_links.append(actual_link)\n",
    "        link_close_button.click()\n",
    "        time.sleep(2)\n",
    "    links_indices.append(all_actual_links)"
   ]
  },
  {
   "cell_type": "code",
   "execution_count": 52,
   "metadata": {},
   "outputs": [
    {
     "data": {
      "text/plain": [
       "[['https://w.soundcloud.com/player/?url=https://api.soundcloud.com/tracks/1910345372&auto_play=true&show_artwork=true&color=%23ff5500&hide_related=true&show_comments=false&show_user=true&show_reposts=false&show_teaser=false&visual=true'],\n",
       " ['https://w.soundcloud.com/player/?url=https://api.soundcloud.com/tracks/111117742&auto_play=true&show_artwork=true&color=%23ff5500&hide_related=true&show_comments=false&show_user=true&show_reposts=false&show_teaser=false&visual=true',\n",
       "  'https://open.spotify.com/embed/track/3IRopjEQzdRC8oP98yUikY?theme=0',\n",
       "  'https://embed.music.apple.com/us/album/under-control-feat-hurts-extended-mix/772057010?i=772057017app=music&at=1000lwkw?'],\n",
       " ['https://w.soundcloud.com/player/?url=https://api.soundcloud.com/tracks/111148737&auto_play=true&show_artwork=true&color=%23ff5500&hide_related=true&show_comments=false&show_user=true&show_reposts=false&show_teaser=false&visual=true',\n",
       "  'https://open.spotify.com/embed/track/3IRopjEQzdRC8oP98yUikY?theme=0',\n",
       "  'https://embed.music.apple.com/us/album/under-control-feat-hurts-extended-mix/772057010?i=772057017app=music&at=1000lwkw?'],\n",
       " ['https://w.soundcloud.com/player/?url=https://api.soundcloud.com/tracks/1817925105&auto_play=true&show_artwork=true&color=%23ff5500&hide_related=true&show_comments=false&show_user=true&show_reposts=false&show_teaser=false&visual=true',\n",
       "  'https://open.spotify.com/embed/track/1jpXMlIkeTcTRZW1nYnfIZ?theme=0',\n",
       "  'https://embed.music.apple.com/nz/album/the-rhythm-of-the-night/1744030890?i=1744030899app=music&at=1000lwkw?'],\n",
       " [],\n",
       " ['https://w.soundcloud.com/player/?url=https://api.soundcloud.com/tracks/1660902612&auto_play=true&show_artwork=true&color=%23ff5500&hide_related=true&show_comments=false&show_user=true&show_reposts=false&show_teaser=false&visual=true',\n",
       "  'https://open.spotify.com/embed/track/7LXimIqTYO76Utly8VFABu?theme=0',\n",
       "  'https://embed.music.apple.com/us/album/stay-high-feat-julia-church/1715732173?i=1715732547app=music&at=1000lwkw?'],\n",
       " ['https://w.soundcloud.com/player/?url=https://api.soundcloud.com/tracks/1648360482&auto_play=true&show_artwork=true&color=%23ff5500&hide_related=true&show_comments=false&show_user=true&show_reposts=false&show_teaser=false&visual=true',\n",
       "  'https://open.spotify.com/embed/track/4KB66xUZWvRDej628vf2J8?theme=0',\n",
       "  'https://embed.music.apple.com/nz/album/run-free-countdown/1712923016?i=1712923020app=music&at=1000lwkw?'],\n",
       " ['https://w.soundcloud.com/player/?url=https://api.soundcloud.com/tracks/1862789283&auto_play=true&show_artwork=true&color=%23ff5500&hide_related=true&show_comments=false&show_user=true&show_reposts=false&show_teaser=false&visual=true',\n",
       "  'https://open.spotify.com/embed/track/2CYb7fe8VDZZG4H55VuBxt?theme=0',\n",
       "  'https://embed.music.apple.com/us/album/bass-down-low-extended-mix/1754705262?i=1754705266app=music&at=1000lwkw?'],\n",
       " ['https://w.soundcloud.com/player/?url=https://api.soundcloud.com/tracks/1817919693&auto_play=true&show_artwork=true&color=%23ff5500&hide_related=true&show_comments=false&show_user=true&show_reposts=false&show_teaser=false&visual=true',\n",
       "  'https://open.spotify.com/embed/track/4TRR5t5l0MJSqNJSeaOEXn?theme=0',\n",
       "  'https://embed.music.apple.com/nz/album/hypnotize/1744030890?i=1744030898app=music&at=1000lwkw?'],\n",
       " ['https://w.soundcloud.com/player/?url=https://api.soundcloud.com/tracks/1664760216&auto_play=true&show_artwork=true&color=%23ff5500&hide_related=true&show_comments=false&show_user=true&show_reposts=false&show_teaser=false&visual=true',\n",
       "  'https://open.spotify.com/embed/track/2ObP6OLXWzrmdVvgIFjjc2?theme=0',\n",
       "  'https://embed.music.apple.com/us/album/meet-her/1716465573?i=1716465575app=music&at=1000lwkw?'],\n",
       " ['https://w.soundcloud.com/player/?url=https://api.soundcloud.com/tracks/1890191583&auto_play=true&show_artwork=true&color=%23ff5500&hide_related=true&show_comments=false&show_user=true&show_reposts=false&show_teaser=false&visual=true',\n",
       "  'https://open.spotify.com/embed/track/2kG38uIoDRlqJU0aFafpP0?theme=0',\n",
       "  'https://embed.music.apple.com/us/album/i-like-it-alesso-sentinel-remix/1761249622?i=1761249630app=music&at=1000lwkw?'],\n",
       " [],\n",
       " [],\n",
       " ['https://w.soundcloud.com/player/?url=https://api.soundcloud.com/tracks/1826948109&auto_play=true&show_artwork=true&color=%23ff5500&hide_related=true&show_comments=false&show_user=true&show_reposts=false&show_teaser=false&visual=true',\n",
       "  'https://open.spotify.com/embed/track/6ncIQAyVDdHePrHc8HxIjv?theme=0',\n",
       "  'https://embed.music.apple.com/au/album/hey-boy-hey-girl-artbat-remix/1745573877?i=1745573878app=music&at=1000lwkw?'],\n",
       " ['https://w.soundcloud.com/player/?url=https://api.soundcloud.com/tracks/1271728834&auto_play=true&show_artwork=true&color=%23ff5500&hide_related=true&show_comments=false&show_user=true&show_reposts=false&show_teaser=false&visual=true',\n",
       "  'https://open.spotify.com/embed/track/42BybLW0zc7x7ebEfy02pZ?theme=0',\n",
       "  'https://embed.music.apple.com/us/album/words-alesso-vip-mix/1625046670?i=1625046675app=music&at=1000lwkw?'],\n",
       " [],\n",
       " ['https://w.soundcloud.com/player/?url=https://api.soundcloud.com/tracks/147679947&auto_play=true&show_artwork=true&color=%23ff5500&hide_related=true&show_comments=false&show_user=true&show_reposts=false&show_teaser=false&visual=true',\n",
       "  'https://open.spotify.com/embed/track/5BVpnY6kHnlHov48OGvADR?theme=0',\n",
       "  'https://embed.music.apple.com/us/album/pressure-alesso-remix/459057830?i=459057832app=music&at=1000lwkw?'],\n",
       " [],\n",
       " ['https://w.soundcloud.com/player/?url=https://api.soundcloud.com/tracks/2605805&auto_play=true&show_artwork=true&color=%23ff5500&hide_related=true&show_comments=false&show_user=true&show_reposts=false&show_teaser=false&visual=true',\n",
       "  'https://open.spotify.com/embed/track/3gyYkQZkgJ3skbCmseIK7P?theme=0',\n",
       "  'https://embed.music.apple.com/us/album/sandstorm/251130083?i=251130652app=music&at=1000lwkw?'],\n",
       " [],\n",
       " [],\n",
       " ['https://w.soundcloud.com/player/?url=https://api.soundcloud.com/tracks/1939072970&auto_play=true&show_artwork=true&color=%23ff5500&hide_related=true&show_comments=false&show_user=true&show_reposts=false&show_teaser=false&visual=true',\n",
       "  'https://open.spotify.com/embed/track/3yWFV3cSt4w2R6btVPcc6T?theme=0',\n",
       "  'https://embed.music.apple.com/nz/album/lonely-heart/1773277438?i=1773277439app=music&at=1000lwkw?'],\n",
       " ['https://w.soundcloud.com/player/?url=https://api.soundcloud.com/tracks/1787363365&auto_play=true&show_artwork=true&color=%23ff5500&hide_related=true&show_comments=false&show_user=true&show_reposts=false&show_teaser=false&visual=true',\n",
       "  'https://open.spotify.com/embed/track/2XOqxVmn5IyOiPL2orpT1D?theme=0',\n",
       "  'https://embed.music.apple.com/us/album/zig-zag/1736852707?i=1736852713app=music&at=1000lwkw?'],\n",
       " ['https://w.soundcloud.com/player/?url=https://api.soundcloud.com/tracks/1570465576&auto_play=true&show_artwork=true&color=%23ff5500&hide_related=true&show_comments=false&show_user=true&show_reposts=false&show_teaser=false&visual=true',\n",
       "  'https://open.spotify.com/embed/track/7FyqTJJ8bdFVpNMoMNQbXA?theme=0',\n",
       "  'https://embed.music.apple.com/us/album/call-your-name/1698289186?i=1698289200app=music&at=1000lwkw?'],\n",
       " ['https://w.soundcloud.com/player/?url=https://api.soundcloud.com/tracks/2008240159&auto_play=true&show_artwork=true&color=%23ff5500&hide_related=true&show_comments=false&show_user=true&show_reposts=false&show_teaser=false&visual=true',\n",
       "  'https://open.spotify.com/embed/track/0HsXfYwVE21j9LGQuV7Tvp?theme=0',\n",
       "  'https://embed.music.apple.com/nz/album/night-in-detroit/1790193719?i=1790193720app=music&at=1000lwkw?'],\n",
       " ['https://w.soundcloud.com/player/?url=https://api.soundcloud.com/tracks/1660822071&auto_play=true&show_artwork=true&color=%23ff5500&hide_related=true&show_comments=false&show_user=true&show_reposts=false&show_teaser=false&visual=true',\n",
       "  'https://open.spotify.com/embed/track/3MmSFDQ14BHOwGiS6nTI76?theme=0',\n",
       "  'https://embed.music.apple.com/nz/album/bad/1715521695?i=1715521696app=music&at=1000lwkw?'],\n",
       " ['https://w.soundcloud.com/player/?url=https://api.soundcloud.com/tracks/1362276322&auto_play=true&show_artwork=true&color=%23ff5500&hide_related=true&show_comments=false&show_user=true&show_reposts=false&show_teaser=false&visual=true',\n",
       "  'https://open.spotify.com/embed/track/6AinKYxrQuioECwavX1XQn?theme=0',\n",
       "  'https://embed.music.apple.com/us/album/we-go-out/1647730477?i=1647730819app=music&at=1000lwkw?'],\n",
       " [],\n",
       " ['https://w.soundcloud.com/player/?url=https://api.soundcloud.com/tracks/75958861&auto_play=true&show_artwork=true&color=%23ff5500&hide_related=true&show_comments=false&show_user=true&show_reposts=false&show_teaser=false&visual=true',\n",
       "  'https://open.spotify.com/embed/track/5YHmAO5OSZqyvs0X9O3hEK?theme=0',\n",
       "  'https://embed.music.apple.com/us/album/city-of-dreams-feat-ruben-haze-radio-edit/666884796?i=666885355app=music&at=1000lwkw?'],\n",
       " [],\n",
       " ['https://w.soundcloud.com/player/?url=https://api.soundcloud.com/tracks/1904846165&auto_play=true&show_artwork=true&color=%23ff5500&hide_related=true&show_comments=false&show_user=true&show_reposts=false&show_teaser=false&visual=true',\n",
       "  'https://open.spotify.com/embed/track/0vMk9HO1T5mSM2mfA910nt?theme=0',\n",
       "  'https://embed.music.apple.com/nz/album/never-going-home-tonight-feat-madison-love-extended/1764331742?i=1764332063app=music&at=1000lwkw?'],\n",
       " ['https://w.soundcloud.com/player/?url=https://api.soundcloud.com/tracks/1636872855&auto_play=true&show_artwork=true&color=%23ff5500&hide_related=true&show_comments=false&show_user=true&show_reposts=false&show_teaser=false&visual=true'],\n",
       " [],\n",
       " ['https://w.soundcloud.com/player/?url=https://api.soundcloud.com/tracks/112427072&auto_play=true&show_artwork=true&color=%23ff5500&hide_related=true&show_comments=false&show_user=true&show_reposts=false&show_teaser=false&visual=true',\n",
       "  'https://open.spotify.com/embed/track/4CxuihAGRYzjRkpGVKqUfe?theme=0',\n",
       "  'https://embed.music.apple.com/us/album/in-my-mind-axwell-mix/526905390?i=526905393app=music&at=1000lwkw?'],\n",
       " ['https://w.soundcloud.com/player/?url=https://api.soundcloud.com/tracks/341061299&auto_play=true&show_artwork=true&color=%23ff5500&hide_related=true&show_comments=false&show_user=true&show_reposts=false&show_teaser=false&visual=true',\n",
       "  'https://open.spotify.com/embed/track/5Gu0PDLN4YJeW75PpBSg9p?theme=0',\n",
       "  'https://embed.music.apple.com/us/album/let-me-go-feat-florida-georgia-line-watt/1375820694?i=1375821149app=music&at=1000lwkw?'],\n",
       " [],\n",
       " [],\n",
       " ['https://open.spotify.com/embed/track/1trC8L8YpawkU553ymy2zC?theme=0']]"
      ]
     },
     "execution_count": 52,
     "metadata": {},
     "output_type": "execute_result"
    }
   ],
   "source": [
    "links_indices"
   ]
  },
  {
   "cell_type": "code",
   "execution_count": null,
   "metadata": {},
   "outputs": [],
   "source": [
    "links_indices = []\n",
    "def get_links(song_atom):\n",
    "    link_classes = [\"fa-soundcloud\", \"fa-youtube-play\", \"fa-spotify\", \"fa-apple\"]\n",
    "    \n",
    "    ActionChains(driver).scroll_by_amount(0, -300).perform()\n",
    "    time.sleep(2)\n",
    "    ActionChains(driver).scroll_to_element(song_atom).perform()\n",
    "    time.sleep(2)\n",
    "    ActionChains(driver).scroll_by_amount(0, 300).perform()\n",
    "    time.sleep(2)\n",
    "    links = [song_atom.find_elements(By.CLASS_NAME, link) for link in link_classes]\n",
    "    links_reduced = [link for link in links if link != []]\n",
    "    if links_reduced == []:\n",
    "        return\n",
    "    links_reduced = [link[0] for link in links_reduced]\n",
    "    print(str(song_atom.find_element(By.TAG_NAME, \"span\").text))\n",
    "    print(len(links_reduced))\n",
    "    all_actual_links = []\n",
    "\n",
    "    for link in links_reduced:\n",
    "        try:\n",
    "            link.click()\n",
    "        except ElementNotInteractableException:\n",
    "            continue\n",
    "        time.sleep(2)\n",
    "        \n",
    "        if not link.get_attribute(\"onclick\"):\n",
    "            continue\n",
    "        link_window = driver.find_element(By.CLASS_NAME, \"mP\") # f border rB\")\n",
    "        link_close_button = link_window.find_element(By.CLASS_NAME, \"close\")\n",
    "        actual_link = link_window.find_element(By.TAG_NAME, 'iframe').get_attribute(\"src\")\n",
    "        all_actual_links.append(actual_link)\n",
    "        link_close_button.click()\n",
    "        time.sleep(2)\n",
    "    # links_indices.append(all_actual_links)"
   ]
  },
  {
   "cell_type": "code",
   "execution_count": 47,
   "metadata": {},
   "outputs": [
    {
     "data": {
      "text/plain": [
       "<selenium.webdriver.remote.webelement.WebElement (session=\"7ddecda6364939a9e77c40348ce0b943\", element=\"f.A0F2574BE3D913D5F1A5B4595FBC8DC2.d.EE18870DFEB53E0D12483003A0C2D69D.e.32\")>"
      ]
     },
     "execution_count": 47,
     "metadata": {},
     "output_type": "execute_result"
    }
   ],
   "source": [
    "visible_song_atoms[0]"
   ]
  },
  {
   "cell_type": "code",
   "execution_count": null,
   "metadata": {},
   "outputs": [
    {
     "data": {
      "text/plain": [
       "[<selenium.webdriver.remote.webelement.WebElement (session=\"7ddecda6364939a9e77c40348ce0b943\", element=\"f.A0F2574BE3D913D5F1A5B4595FBC8DC2.d.EE18870DFEB53E0D12483003A0C2D69D.e.968\")>,\n",
       " <selenium.webdriver.remote.webelement.WebElement (session=\"7ddecda6364939a9e77c40348ce0b943\", element=\"f.A0F2574BE3D913D5F1A5B4595FBC8DC2.d.EE18870DFEB53E0D12483003A0C2D69D.e.217\")>,\n",
       " <selenium.webdriver.remote.webelement.WebElement (session=\"7ddecda6364939a9e77c40348ce0b943\", element=\"f.A0F2574BE3D913D5F1A5B4595FBC8DC2.d.EE18870DFEB53E0D12483003A0C2D69D.e.165\")>]"
      ]
     },
     "execution_count": 58,
     "metadata": {},
     "output_type": "execute_result"
    }
   ],
   "source": [
    "visible_song_atoms[4].find_elements(By.CLASS_NAME, \"action\") # if len > 2"
   ]
  },
  {
   "cell_type": "code",
   "execution_count": 63,
   "metadata": {},
   "outputs": [],
   "source": [
    "visible_song_atoms[4].find_elements(By.CLASS_NAME, \"action\")[1].click()"
   ]
  },
  {
   "cell_type": "code",
   "execution_count": null,
   "metadata": {},
   "outputs": [
    {
     "ename": "IndexError",
     "evalue": "list index out of range",
     "output_type": "error",
     "traceback": [
      "\u001b[0;31m---------------------------------------------------------------------------\u001b[0m",
      "\u001b[0;31mIndexError\u001b[0m                                Traceback (most recent call last)",
      "Cell \u001b[0;32mIn[79], line 12\u001b[0m\n\u001b[1;32m     10\u001b[0m     \u001b[38;5;28;01mbreak\u001b[39;00m\n\u001b[1;32m     11\u001b[0m links_reduced \u001b[38;5;241m=\u001b[39m [link[\u001b[38;5;241m0\u001b[39m] \u001b[38;5;28;01mfor\u001b[39;00m link \u001b[38;5;129;01min\u001b[39;00m links_reduced]\n\u001b[0;32m---> 12\u001b[0m ActionChains(driver)\u001b[38;5;241m.\u001b[39mscroll_to_element(\u001b[43mlinks_reduced\u001b[49m\u001b[43m[\u001b[49m\u001b[38;5;241;43m20\u001b[39;49m\u001b[43m]\u001b[49m)\u001b[38;5;241m.\u001b[39mperform()\n\u001b[1;32m     13\u001b[0m \u001b[38;5;66;03m# links_reduced[0].click()\u001b[39;00m\n\u001b[1;32m     14\u001b[0m \u001b[38;5;28;01mbreak\u001b[39;00m\n",
      "\u001b[0;31mIndexError\u001b[0m: list index out of range"
     ]
    }
   ],
   "source": [
    "\n",
    "\n",
    "link_classes = [\"fa-soundcloud\", \"fa-youtube-play\", \"fa-spotify\", \"fa-apple\"]\n",
    "link_classes_reduced = [\"soundcloud\", \"youtube\", \"spotify\", \"apple\"]\n",
    "for atom in visible_song_atoms:\n",
    "    links = [atom.find_elements(By.CLASS_NAME, link) for link in link_classes]\n",
    "    links_reduced = [link for link in links if link != []]\n",
    "    if links_reduced == []:\n",
    "        break\n",
    "    links_reduced = [link[0] for link in links_reduced]\n",
    "    ActionChains(driver).scroll_to_element(links_reduced[0]).perform()\n",
    "    # links_reduced[0].click()\n",
    "    break\n",
    "    # for link in links:\n",
    "    "
   ]
  },
  {
   "cell_type": "code",
   "execution_count": 29,
   "metadata": {},
   "outputs": [
    {
     "data": {
      "text/plain": [
       "''"
      ]
     },
     "execution_count": 29,
     "metadata": {},
     "output_type": "execute_result"
    }
   ],
   "source": [
    "# Group the elements based on their trrow value\n",
    "soundcloudClickElements[0].text"
   ]
  },
  {
   "cell_type": "code",
   "execution_count": null,
   "metadata": {},
   "outputs": [],
   "source": [
    "# Clicks must be in view\n",
    "soundcloudClickElements[0].click()"
   ]
  },
  {
   "cell_type": "code",
   "execution_count": null,
   "metadata": {},
   "outputs": [],
   "source": [
    "def scrollFindLinks(type):\n",
    "    try:\n",
    "        soundcloud_click_element = driver.find_element(By.ID, row.get(\"id\")).find_element(By.CLASS_NAME, \"iRow\").find_element(By.CLASS_NAME, \"fa-soundcloud\")\n",
    "        spotify_click_element =  driver.find_element(By.ID, row.get(\"id\")).find_element(By.CLASS_NAME, \"iRow\").find_element(By.CLASS_NAME, \"fa-spotify\")\n",
    "        driver.execute_script(\"arguments[0].scrollIntoView({behavior: 'smooth', block: 'center'});\", soundcloud_click_element)\n",
    "        time.sleep(SLEEP_TIME)\n",
    "    except AttributeError:\n",
    "        return None, None\n",
    "    return soundcloud_click_element, spotify_click_element\n",
    "\n",
    "# We need a method for scrolling to each of these, clicking them, and putting them into the appriopriate tr row\n",
    "get_links = {\n",
    "    \"youtube\": scrollFindLinks(\"fa-youtube-play\"),\n",
    "    \"soundcloud\": scrollFindLinks(\"fa-soundcloud\"),\n",
    "    \"spotify\": scrollFindLinks(\"fa-spotify\"),\n",
    "    \"apple\": scrollFindLinks(\"fa-apple\")\n",
    "}"
   ]
  },
  {
   "cell_type": "code",
   "execution_count": 7,
   "metadata": {},
   "outputs": [],
   "source": [
    "# this gets the visible atoms. \n",
    "song_nodes = driver.find_elements(By.CLASS_NAME, \"tlpTog\")\n",
    "# for i in song_nodes:\n",
    "#     print(i.get_attribute(\"data-trno\"))"
   ]
  },
  {
   "cell_type": "code",
   "execution_count": 8,
   "metadata": {},
   "outputs": [
    {
     "data": {
      "text/plain": [
       "'tlpTog bItm tlpItem trRow2'"
      ]
     },
     "execution_count": 8,
     "metadata": {},
     "output_type": "execute_result"
    }
   ],
   "source": [
    "song_nodes[2].get_attribute(\"class\")"
   ]
  },
  {
   "cell_type": "code",
   "execution_count": 13,
   "metadata": {},
   "outputs": [
    {
     "name": "stdout",
     "output_type": "stream",
     "text": [
      "{'name': 'Alesso & SICK INDIVIDUALS & Sentinel - Upside Down', 'byArtist': 'Alesso & SICK INDIVIDUALS & Sentinel', 'publisher': '<span class=\"blueTxt\"><span title=\"label\" class=\"trackLabel noWrap\"><a href=\"/label/7d3x3yz/tomorrowland-music/index.html\" translate=\"no\" class=\"notranslate \" title=\"open label page\">Tomorrowland Music</a></span></span>', 'duration': 'PT3M27S', 'url': '/track/d83ljwcp/alesso-sick-individuals-sentinel-upside-down/index.html'}\n"
     ]
    }
   ],
   "source": [
    "song_nodes[0].find_elements(By.TAG_NAME, \"meta\")[0].get_attribute(\"content\")\n",
    "for song_node in song_nodes:\n",
    "    metadata = song_node.find_elements(By.TAG_NAME, \"meta\")\n",
    "    retrievedData = {}\n",
    "    for data in metadata:\n",
    "        retrievedData[data.get_attribute(\"itemprop\")] = data.get_attribute(\"content\")\n",
    "    print(retrievedData)\n",
    "    break\n",
    "# [x.find_elements(By.TAG_NAME, \"meta\").get_attribute(\"content\") for x in song_nodes[0]]"
   ]
  },
  {
   "cell_type": "code",
   "execution_count": 10,
   "metadata": {},
   "outputs": [
    {
     "data": {
      "text/plain": [
       "'04:54'"
      ]
     },
     "execution_count": 10,
     "metadata": {},
     "output_type": "execute_result"
    }
   ],
   "source": [
    "song_nodes[2].find_elements(By.CLASS_NAME, \"cue\")[0].text"
   ]
  },
  {
   "cell_type": "code",
   "execution_count": null,
   "metadata": {},
   "outputs": [
    {
     "name": "stdout",
     "output_type": "stream",
     "text": [
      "19\n"
     ]
    },
    {
     "name": "stderr",
     "output_type": "stream",
     "text": [
      "<>:9: SyntaxWarning: invalid escape sequence '\\d'\n",
      "<>:9: SyntaxWarning: invalid escape sequence '\\d'\n",
      "/var/folders/zh/_2ts63ws01zcsbbx10yxq2th0000gn/T/ipykernel_48106/121228745.py:9: SyntaxWarning: invalid escape sequence '\\d'\n",
      "  re.search(\"(trRow)\\d\\d\", hidden_song_nodes[4].get_attribute(\"class\")).group()\n"
     ]
    },
    {
     "data": {
      "text/plain": [
       "'trRow11'"
      ]
     },
     "execution_count": 15,
     "metadata": {},
     "output_type": "execute_result"
    }
   ],
   "source": [
    "# This gets the hidden song nodes\n",
    "hidden_song_nodes = driver.find_elements(By.CLASS_NAME, \"tlpSubTog\")\n",
    "print(len(hidden_song_nodes))\n",
    "# The data-trno attribute allows us to group trivially.\n",
    "# Now that we have all the data using merely 5 lines, all we need now is the corresponding links for each song\n",
    "song_nodes[0].find_element(By.CLASS_NAME, \"iRow\").find_elements(By.CLASS_NAME, \"mAction\")\n",
    "# Thus, it is complete with minimal code.\n",
    "import re\n",
    "re.search(\"(trRow)\\d\\d\", hidden_song_nodes[4].get_attribute(\"class\")).group()\n",
    "# match = re.search(r\"(trRow)\\d+\", song_nodes[0].get_attribute(\"class\"))\n",
    "# digits = re.search(r\"\\d+\", match.group()).group()  # Extract only the digits"
   ]
  },
  {
   "cell_type": "code",
   "execution_count": 30,
   "metadata": {},
   "outputs": [],
   "source": [
    "match = re.search(r\"(trRow)\\d+\", song_nodes[0].get_attribute(\"class\"))\n",
    "digits = re.search(r\"\\d+\", match.group()).group()  # Extract only the digits"
   ]
  },
  {
   "cell_type": "code",
   "execution_count": 12,
   "metadata": {},
   "outputs": [
    {
     "data": {
      "text/plain": [
       "<selenium.webdriver.remote.webelement.WebElement (session=\"d5f3b46a38f189890dd9caf5901081ca\", element=\"f.E4DEA20BBFC69D43C6A3620A996386F3.d.D4C4E12A57FDBB4C1357EC2B669E172A.e.651\")>"
      ]
     },
     "execution_count": 12,
     "metadata": {},
     "output_type": "execute_result"
    }
   ],
   "source": [
    "elipses = driver.find_elements(By.CLASS_NAME, \"fa-stack\")\n",
    "elipses[0]"
   ]
  },
  {
   "cell_type": "code",
   "execution_count": 12,
   "metadata": {},
   "outputs": [],
   "source": [
    "moduleTRNoElements = driver.find_elements(\"xpath\", \"//body[@id='body']//div[@data-trno]\")\n",
    "moduleBPlayElements = driver.find_elements(By.CLASS_NAME, \"bPlay\")"
   ]
  },
  {
   "cell_type": "code",
   "execution_count": 13,
   "metadata": {},
   "outputs": [
    {
     "name": "stdout",
     "output_type": "stream",
     "text": [
      "38\n"
     ]
    }
   ],
   "source": [
    "moduleBPlaySpanElements = [moduleBPlayElement.find_elements(\"xpath\", './/span') for moduleBPlayElement in moduleBPlayElements]\n",
    "moduleBPlaySpanElementsFiltered = [moduleBPlaySpanElement[0] for moduleBPlaySpanElement in moduleBPlaySpanElements if len(moduleBPlaySpanElement) == 1]\n",
    "print(len(moduleBPlaySpanElementsFiltered))"
   ]
  },
  {
   "cell_type": "code",
   "execution_count": 14,
   "metadata": {},
   "outputs": [],
   "source": [
    "\n",
    "pre_processed_atoms = driver.find_elements(\"xpath\", \"//div[@data-trno]\")"
   ]
  },
  {
   "cell_type": "code",
   "execution_count": null,
   "metadata": {},
   "outputs": [],
   "source": [
    "# NB: Mashups are indicated by circular ellipsis. In that case they are nonterminal and have atoms to be parsed..."
   ]
  },
  {
   "cell_type": "code",
   "execution_count": 15,
   "metadata": {},
   "outputs": [
    {
     "data": {
      "text/plain": [
       "'tlp_11335113'"
      ]
     },
     "execution_count": 15,
     "metadata": {},
     "output_type": "execute_result"
    }
   ],
   "source": [
    "pre_processed_atoms[1].get_attribute(\"id\")"
   ]
  },
  {
   "cell_type": "code",
   "execution_count": 12,
   "metadata": {},
   "outputs": [],
   "source": [
    "def getClickElement(atom, clickElementPrefix):\n",
    "    # Try getting the links to click for the urls\n",
    "    try:\n",
    "        click_element = driver.find_element(By.ID, atom.get_attribute(\"id\")).find_element(By.CLASS_NAME, \"iRow\").find_element(By.CLASS_NAME, \"fa-{clickElementPrefix}\")\n",
    "    # An AttributeError implies the links do not exist\n",
    "    except AttributeError:\n",
    "        soundcloud_click_element = None\n",
    "\n",
    "    return soundcloud_click_element\n"
   ]
  },
  {
   "cell_type": "code",
   "execution_count": 5,
   "metadata": {},
   "outputs": [],
   "source": [
    "# It's a good practice to close the browser when done\n",
    "driver.quit()"
   ]
  }
 ],
 "metadata": {
  "kernelspec": {
   "display_name": "music_analysis",
   "language": "python",
   "name": "python3"
  },
  "language_info": {
   "codemirror_mode": {
    "name": "ipython",
    "version": 3
   },
   "file_extension": ".py",
   "mimetype": "text/x-python",
   "name": "python",
   "nbconvert_exporter": "python",
   "pygments_lexer": "ipython3",
   "version": "3.12.4"
  }
 },
 "nbformat": 4,
 "nbformat_minor": 2
}
