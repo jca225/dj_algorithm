{
 "cells": [
  {
   "cell_type": "code",
   "execution_count": 10,
   "metadata": {},
   "outputs": [],
   "source": [
    "from selenium import webdriver\n",
    "from selenium.webdriver.common.by import By\n",
    "import time"
   ]
  },
  {
   "cell_type": "code",
   "execution_count": 11,
   "metadata": {},
   "outputs": [],
   "source": [
    "def scrape_artist(url):\n",
    "    \"\"\"Scrape sets from artist given by `url`, and saves them on disk\"\"\"\n",
    "    # Initialize the Chrome driver\n",
    "    driver = webdriver.Chrome()\n",
    "    driver.get(url)\n",
    "    urls = []\n",
    "    all_rows = set()\n",
    "    prev_rows_count = 0\n",
    "    while True:\n",
    "        rows = driver.find_elements(By.CLASS_NAME, \"bItm\")\n",
    "        all_rows |= set(rows)\n",
    "        if len(rows) == prev_rows_count:\n",
    "            print(\"End of page reached\")\n",
    "            break\n",
    "        # if  len(all_rows) >= 300:\n",
    "        #     print(\"300 sets parsed\")\n",
    "        #     break\n",
    "        prev_rows_count = len(rows) \n",
    "        driver.execute_script(\"window.scrollTo(0, document.body.scrollHeight);\")\n",
    "        time.sleep(20)\n",
    "            \n",
    "    for row in all_rows:\n",
    "        currentUrl = \"https://www.1001tracklists.com\" + row.get_attribute('onclick').split(\"window.open(\")[1].split(\"\\',\")[0][1:-2]\n",
    "        urls.append(currentUrl)\n",
    "    # with open(\"/Users/johncabrahams/Desktop/Archive/Operation Pierce Fulton/alesso_set_urls.data\", \"wb\") as file:\n",
    "    #     pickle.dump(urls, file)\n",
    "    driver.quit()\n",
    "    return urls"
   ]
  },
  {
   "cell_type": "markdown",
   "metadata": {},
   "source": [
    "We can get around 50 artists:\n",
    "Disco Lines\n",
    "Alesso\n",
    ".\n",
    ".\n",
    ".\n",
    "\n",
    "Get their spotify links.\n",
    "Do it in separate stages + overnight."
   ]
  },
  {
   "cell_type": "code",
   "execution_count": 12,
   "metadata": {},
   "outputs": [],
   "source": [
    "dj_urls = [\n",
    "    \"https://www.1001tracklists.com/dj/alesso/index.html\",\n",
    "    \"https://www.1001tracklists.com/dj/discolines/index.html\",\n",
    "    \"https://www.1001tracklists.com/dj/davidguetta/index.html\",\n",
    "    \"https://www.1001tracklists.com/dj/moguai/index.html\",\n",
    "    \"https://www.1001tracklists.com/dj/swedishhousemafia/index.html\",\n",
    "    \"https://www.1001tracklists.com/dj/afrojack/index.html\",\n",
    "    \"https://www.1001tracklists.com/dj/diplo/index.html\",\n",
    "    \"https://www.1001tracklists.com/dj/tiesto/index.html\",\n",
    "    \"https://www.1001tracklists.com/dj/fisher/index.html\",\n",
    "    \"https://www.1001tracklists.com/dj/oddmob/index.html\",\n",
    "    \"https://www.1001tracklists.com/dj/johnsummit/index.html\",\n",
    "]"
   ]
  },
  {
   "cell_type": "code",
   "execution_count": null,
   "metadata": {},
   "outputs": [
    {
     "name": "stdout",
     "output_type": "stream",
     "text": [
      "End of page reached\n",
      "End of page reached\n",
      "End of page reached\n",
      "End of page reached\n",
      "End of page reached\n",
      "End of page reached\n",
      "End of page reached\n",
      "End of page reached\n",
      "End of page reached\n",
      "End of page reached\n",
      "End of page reached\n"
     ]
    }
   ],
   "source": [
    "import re\n",
    "import pickle\n",
    "def extract_between(url):\n",
    "    match = re.search(r'https://www.1001tracklists.com/dj/(.*?)/index.html', url)\n",
    "    return match.group(1) if match else None\n",
    "\n",
    "import pickle\n",
    "for url in dj_urls:\n",
    "    filename = extract_between(url) + \".set\"\n",
    "    artist_urls = scrape_artist(url)\n",
    "    time.sleep(300)\n",
    "    with open(filename, 'wb') as file:\n",
    "        pickle.dump(artist_urls, file)"
   ]
  }
 ],
 "metadata": {
  "kernelspec": {
   "display_name": "music_analysis",
   "language": "python",
   "name": "python3"
  },
  "language_info": {
   "codemirror_mode": {
    "name": "ipython",
    "version": 3
   },
   "file_extension": ".py",
   "mimetype": "text/x-python",
   "name": "python",
   "nbconvert_exporter": "python",
   "pygments_lexer": "ipython3",
   "version": "3.12.4"
  }
 },
 "nbformat": 4,
 "nbformat_minor": 2
}
