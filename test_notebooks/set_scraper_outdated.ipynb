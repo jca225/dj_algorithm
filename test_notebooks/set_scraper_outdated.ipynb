{
 "cells": [
  {
   "cell_type": "code",
   "execution_count": 174,
   "metadata": {},
   "outputs": [],
   "source": [
    "from selenium import webdriver\n",
    "from selenium.webdriver.common.by import By\n",
    "from dataclasses import dataclass\n",
    "from typing import Union\n",
    "import re\n",
    "import time\n",
    "import pickle\n",
    "from selenium.webdriver import ActionChains\n",
    "from selenium.webdriver.remote.errorhandler import ElementNotInteractableException\n",
    "\n",
    "# https://www.browserstack.com/guide/how-to-handle-captcha-in-selenium"
   ]
  },
  {
   "cell_type": "code",
   "execution_count": 175,
   "metadata": {},
   "outputs": [],
   "source": [
    "url = \"https://www.1001tracklists.com/tracklist/2q5y06k9/alesso-mainstage-creamfields-chile-2024-11-17.html\"\n",
    "chop = webdriver.ChromeOptions()\n",
    "chop.add_extension(\"/Users/johncabrahams/Downloads/gighmmpiobklfepjocnamgkkbiglidom.crx\")\n",
    "driver = webdriver.Chrome(options = chop)\n",
    "time.sleep(5)\n",
    "chld = driver.window_handles[1]\n",
    "driver.switch_to.window(chld)\n",
    "driver.close()\n",
    "current_tab=driver.window_handles[0]\n",
    "driver.switch_to.window(current_tab)\n",
    "driver.get(url)\n",
    "# time.sleep(5)\n",
    "\n",
    "set = {}"
   ]
  },
  {
   "cell_type": "code",
   "execution_count": 176,
   "metadata": {},
   "outputs": [],
   "source": [
    "def _get_id(atom):\n",
    "    match = re.search(r\"(trRow)\\d+\", atom.get_attribute(\"class\"))\n",
    "    return int(re.search(r\"\\d+\", match.group()).group())"
   ]
  },
  {
   "cell_type": "code",
   "execution_count": 177,
   "metadata": {},
   "outputs": [],
   "source": [
    "\"\"\"This method gets the date of publication, the number of tracks, and the name of the mix.\"\"\"\n",
    "# Get all the meta data elements for a set\n",
    "moduleMetaDataElements = driver.find_elements(\"xpath\", \"//body[@id='body']//meta\")\n",
    "# Relevant and irrelevant meta data names\n",
    "relevantMetaDataTypes = [\"name\", \"datePublished\", \"numTracks\", \"genre\"]\n",
    "irrelevantMetaDataValues = ['tracklist', '1001Tracklists', 'YouTube video']\n",
    "# Sort through only the relevant information in `moduleMetaDataElements`\n",
    "moduleMetaDataRelevantInfo = [metadata for metadata in moduleMetaDataElements if metadata.get_attribute(\"itemprop\") in relevantMetaDataTypes and metadata.get_attribute(\"content\") not in irrelevantMetaDataValues]\n",
    "moduleMetaData = [(metadata.get_attribute(\"itemprop\"), metadata.get_attribute(\"content\")) for metadata in moduleMetaDataRelevantInfo][0:5]\n",
    "# Create a dictionary of values from the metadata\n",
    "moduleMetaDataDict = {k : v for k, v in moduleMetaData}\n",
    "# Save the relevant values found\n",
    "name = moduleMetaDataDict['name']\n",
    "date_published = moduleMetaDataDict['datePublished']\n",
    "num_tracks = moduleMetaDataDict['numTracks']"
   ]
  },
  {
   "cell_type": "code",
   "execution_count": 179,
   "metadata": {},
   "outputs": [
    {
     "data": {
      "text/plain": [
       "[<selenium.webdriver.remote.webelement.WebElement (session=\"2108d5aa41a0196bd6383d2f933b7bc2\", element=\"f.BAEC24BB5BE9E397654DCC4A658BBA5B.d.5F9F371FA69C485EFAB58F6DF030DF06.e.358\")>,\n",
       " <selenium.webdriver.remote.webelement.WebElement (session=\"2108d5aa41a0196bd6383d2f933b7bc2\", element=\"f.BAEC24BB5BE9E397654DCC4A658BBA5B.d.5F9F371FA69C485EFAB58F6DF030DF06.e.359\")>]"
      ]
     },
     "execution_count": 179,
     "metadata": {},
     "output_type": "execute_result"
    }
   ],
   "source": [
    "driver.find_elements(By.CLASS_NAME, \"trRow1\")"
   ]
  },
  {
   "cell_type": "markdown",
   "metadata": {},
   "source": [
    "The following retrieves the data pertaining to the songs."
   ]
  },
  {
   "cell_type": "code",
   "execution_count": 168,
   "metadata": {},
   "outputs": [],
   "source": [
    "def getVisibleSongLink(song_atom):\n",
    "    link_classes = [\"fa-soundcloud\", \"fa-youtube-play\", \"fa-spotify\", \"fa-apple\"]\n",
    "        \n",
    "    ActionChains(driver).scroll_by_amount(0, -300).perform()\n",
    "    time.sleep(2)\n",
    "    ActionChains(driver).scroll_to_element(song_atom).perform()\n",
    "    time.sleep(2)\n",
    "    ActionChains(driver).scroll_by_amount(0, 300).perform()\n",
    "    time.sleep(2)\n",
    "    links = [song_atom.find_elements(By.CLASS_NAME, link) for link in link_classes]\n",
    "    links_reduced = [link for link in links if link != []]\n",
    "    if links_reduced == []:\n",
    "        return\n",
    "    links_reduced = [link[0] for link in links_reduced]\n",
    "    print(str(song_atom.find_element(By.TAG_NAME, \"span\").text))\n",
    "    print(len(links_reduced))\n",
    "    all_actual_links = []\n",
    "\n",
    "    for link in links_reduced:\n",
    "        try:\n",
    "            link.click()\n",
    "        except ElementNotInteractableException:\n",
    "            continue\n",
    "        time.sleep(2)\n",
    "            \n",
    "        if not link.get_attribute(\"onclick\"):\n",
    "            continue\n",
    "        link_window = driver.find_element(By.CLASS_NAME, \"mP\") # f border rB\")\n",
    "        link_close_button = link_window.find_element(By.CLASS_NAME, \"close\")\n",
    "        actual_link = link_window.find_element(By.TAG_NAME, 'iframe').get_attribute(\"src\")\n",
    "        all_actual_links.append(actual_link)\n",
    "        link_close_button.click()\n",
    "        time.sleep(2)\n",
    "    return all_actual_links"
   ]
  },
  {
   "cell_type": "markdown",
   "metadata": {},
   "source": [
    "calculate the ratio of scroll so 300 to the total height of the page we have right now..."
   ]
  },
  {
   "cell_type": "markdown",
   "metadata": {},
   "source": [
    "https://stackoverflow.com/questions/77653286/how-to-download-songs-from-soundcloud-theyre-no-longer-providing-api-keys"
   ]
  },
  {
   "cell_type": "code",
   "execution_count": 169,
   "metadata": {},
   "outputs": [
    {
     "name": "stdout",
     "output_type": "stream",
     "text": [
      "01\n",
      "3\n",
      "with found\n",
      "w/\n",
      "3\n",
      "with done\n",
      "w/\n",
      "3\n"
     ]
    },
    {
     "ename": "KeyboardInterrupt",
     "evalue": "",
     "output_type": "error",
     "traceback": [
      "\u001b[0;31m---------------------------------------------------------------------------\u001b[0m",
      "\u001b[0;31mKeyboardInterrupt\u001b[0m                         Traceback (most recent call last)",
      "Cell \u001b[0;32mIn[169], line 18\u001b[0m\n\u001b[1;32m     16\u001b[0m \u001b[38;5;28;01mfor\u001b[39;00m data \u001b[38;5;129;01min\u001b[39;00m metadata:\n\u001b[1;32m     17\u001b[0m     retrievedMetaData[data\u001b[38;5;241m.\u001b[39mget_attribute(\u001b[38;5;124m\"\u001b[39m\u001b[38;5;124mitemprop\u001b[39m\u001b[38;5;124m\"\u001b[39m)] \u001b[38;5;241m=\u001b[39m data\u001b[38;5;241m.\u001b[39mget_attribute(\u001b[38;5;124m\"\u001b[39m\u001b[38;5;124mcontent\u001b[39m\u001b[38;5;124m\"\u001b[39m)\n\u001b[0;32m---> 18\u001b[0m \u001b[38;5;28mset\u001b[39m[_get_id(song_atom)] \u001b[38;5;241m=\u001b[39m {\u001b[38;5;124m\"\u001b[39m\u001b[38;5;124mcurrentIndex\u001b[39m\u001b[38;5;124m\"\u001b[39m: currentIndex, \u001b[38;5;124m\"\u001b[39m\u001b[38;5;124mmetadata\u001b[39m\u001b[38;5;124m\"\u001b[39m: retrievedMetaData, \u001b[38;5;124m\"\u001b[39m\u001b[38;5;124mtime\u001b[39m\u001b[38;5;124m\"\u001b[39m: play_time, \u001b[38;5;124m\"\u001b[39m\u001b[38;5;124mlinks\u001b[39m\u001b[38;5;124m\"\u001b[39m: \u001b[43mgetVisibleSongLink\u001b[49m\u001b[43m(\u001b[49m\u001b[43msong_atom\u001b[49m\u001b[43m)\u001b[49m}\n\u001b[1;32m     20\u001b[0m \u001b[38;5;66;03m# 2. Check for any mashups\u001b[39;00m\n\u001b[1;32m     21\u001b[0m \u001b[38;5;66;03m# Hidden songs are indicated by the tgBtn (toggle button) class name within the song atom\u001b[39;00m\n\u001b[1;32m     22\u001b[0m \u001b[38;5;28;01mif\u001b[39;00m \u001b[38;5;28mlen\u001b[39m(main_song_atom\u001b[38;5;241m.\u001b[39mfind_elements(By\u001b[38;5;241m.\u001b[39mCLASS_NAME, \u001b[38;5;124m\"\u001b[39m\u001b[38;5;124mtgBtn\u001b[39m\u001b[38;5;124m\"\u001b[39m)) \u001b[38;5;241m==\u001b[39m \u001b[38;5;241m1\u001b[39m:\n",
      "Cell \u001b[0;32mIn[168], line 24\u001b[0m, in \u001b[0;36mgetVisibleSongLink\u001b[0;34m(song_atom)\u001b[0m\n\u001b[1;32m     22\u001b[0m \u001b[38;5;28;01mexcept\u001b[39;00m ElementNotInteractableException:\n\u001b[1;32m     23\u001b[0m     \u001b[38;5;28;01mcontinue\u001b[39;00m\n\u001b[0;32m---> 24\u001b[0m \u001b[43mtime\u001b[49m\u001b[38;5;241;43m.\u001b[39;49m\u001b[43msleep\u001b[49m\u001b[43m(\u001b[49m\u001b[38;5;241;43m2\u001b[39;49m\u001b[43m)\u001b[49m\n\u001b[1;32m     26\u001b[0m \u001b[38;5;28;01mif\u001b[39;00m \u001b[38;5;129;01mnot\u001b[39;00m link\u001b[38;5;241m.\u001b[39mget_attribute(\u001b[38;5;124m\"\u001b[39m\u001b[38;5;124monclick\u001b[39m\u001b[38;5;124m\"\u001b[39m):\n\u001b[1;32m     27\u001b[0m     \u001b[38;5;28;01mcontinue\u001b[39;00m\n",
      "\u001b[0;31mKeyboardInterrupt\u001b[0m: "
     ]
    }
   ],
   "source": [
    "\"\"\"This method gets the songs of the set\"\"\"\n",
    "# This expression gets the visible atoms. \n",
    "visible_song_atoms = driver.find_elements(By.CLASS_NAME, \"tlpTog\")\n",
    "# This expression gets the invisible atoms (i.e., those binded to a mix with an ellipses (...))\n",
    "invisible_song_atoms = driver.find_elements(By.CLASS_NAME, \"tlpSubTog\")\n",
    "        \n",
    "# Loop through the visible song atoms and get their corresponding metadata\n",
    "for i in range(len(visible_song_atoms)):\n",
    "    \n",
    "    # 1. Get the visible song's data attributes, including the song link\n",
    "    main_song_atom = song_atom = visible_song_atoms[i]\n",
    "    currentIndex = song_atom.find_element(By.TAG_NAME, \"span\").text\n",
    "    metadata = song_atom.find_elements(By.TAG_NAME, \"meta\")\n",
    "    play_time = song_atom.find_elements(By.CLASS_NAME, \"cue\")[0].text\n",
    "    retrievedMetaData = {}\n",
    "    for data in metadata:\n",
    "        retrievedMetaData[data.get_attribute(\"itemprop\")] = data.get_attribute(\"content\")\n",
    "    set[_get_id(song_atom)] = {\"currentIndex\": currentIndex, \"metadata\": retrievedMetaData, \"time\": play_time, \"links\": getVisibleSongLink(song_atom)}\n",
    "\n",
    "    # 2. Check for any mashups\n",
    "    # Hidden songs are indicated by the tgBtn (toggle button) class name within the song atom\n",
    "    if len(main_song_atom.find_elements(By.CLASS_NAME, \"tgBtn\")) == 1:\n",
    "        invisible_atoms = []\n",
    "        # Loop through the invisible atoms parsed on our initial scan (they show up on the html code DOM, but are hidden from the user)\n",
    "        for invisible_atom in invisible_song_atoms:\n",
    "            invisible_atom_id = _get_id(invisible_atom)\n",
    "            if invisible_atom_id == _get_id(main_song_atom):\n",
    "                invisible_atoms.append(invisible_atom)\n",
    "        # Click the button to make the invisible song atoms visible\n",
    "        main_song_atom.find_element(By.CLASS_NAME, \"tgBtn\").click()\n",
    "        for invisible_atom in invisible_atoms:\n",
    "            currentIndex = invisible_atom.find_element(By.TAG_NAME, \"span\").text\n",
    "            metadata = invisible_atom.find_elements(By.TAG_NAME, \"meta\")\n",
    "            id = _get_id(invisible_atom)\n",
    "            retrievedMetaData = {}\n",
    "            for data in metadata:\n",
    "                retrievedMetaData[data.get_attribute(\"itemprop\")] = data.get_attribute(\"content\")\n",
    "            set[id]['invisible_atoms'] = {\"currentIndex\": currentIndex, \"metadata\":retrievedMetaData, \"links\":getVisibleSongLink(invisible_atom)}\n",
    "        # Scroll up to the atom that contained the invisible mashups\n",
    "        time.sleep(3)\n",
    "        ActionChains(driver).scroll_to_element(main_song_atom).perform()\n",
    "        ActionChains(driver).scroll_by_amount(0, -300).perform()\n",
    "        # ActionChains(driver).scroll_to_element(song_atom).perform()\n",
    "        time.sleep(3)\n",
    "        # Click the button to make the visible song atoms invisible\n",
    "        main_song_atom.find_element(By.CLASS_NAME, \"tgBtn\").click()\n",
    "        ActionChains(driver).scroll_by_amount(0, 300).perform()\n",
    "\n",
    "    # 3. Check for any binded (mixed with) songs, indicated by a 'w/'\n",
    "    try:\n",
    "        # This will get the elements that are not invisible but bind to a previous song with a `w/` indicator.\n",
    "        while visible_song_atoms[i+1].find_element(By.TAG_NAME, \"span\").text.rstrip().lstrip() == 'w/':\n",
    "            print(\"with found\")\n",
    "            i += 1\n",
    "            song_atom = visible_song_atoms[i]\n",
    "            currentIndex = song_atom.find_element(By.TAG_NAME, \"span\").text\n",
    "            metadata = song_atom.find_elements(By.TAG_NAME, \"meta\")\n",
    "            play_time = song_atom.find_elements(By.CLASS_NAME, \"cue\")[0].text\n",
    "            retrievedMetaData = {}\n",
    "            for data in metadata:\n",
    "                retrievedMetaData[data.get_attribute(\"itemprop\")] = data.get_attribute(\"content\")\n",
    "            id = _get_id(song_atom)\n",
    "            set[id]['binded_atoms'] = {\"currentIndex\": currentIndex, \"metadata\": retrievedMetaData, \"time\": play_time}\n",
    "            set[id][\"links\"] = getVisibleSongLink(song_atom)   \n",
    "            print(\"with done\")   \n",
    "    # An IndexError means we indexed outside of the appropriate range, and therefore must be at the end of the loop.\n",
    "    except IndexError:\n",
    "        break"
   ]
  },
  {
   "cell_type": "code",
   "execution_count": 170,
   "metadata": {},
   "outputs": [
    {
     "data": {
      "text/plain": [
       "{1: {'currentIndex': '01',\n",
       "  'metadata': {'name': 'Alesso & SICK INDIVIDUALS & Sentinel - Upside Down',\n",
       "   'byArtist': 'Alesso & SICK INDIVIDUALS & Sentinel',\n",
       "   'publisher': '<span class=\"blueTxt\"><span title=\"label\" class=\"trackLabel noWrap\"><a href=\"/label/7d3x3yz/tomorrowland-music/index.html\" translate=\"no\" class=\"notranslate \" title=\"open label page\">Tomorrowland Music</a></span></span>',\n",
       "   'duration': 'PT3M27S',\n",
       "   'url': '/track/d83ljwcp/alesso-sick-individuals-sentinel-upside-down/index.html'},\n",
       "  'time': '',\n",
       "  'links': ['https://w.soundcloud.com/player/?url=https://api.soundcloud.com/tracks/111117742&auto_play=true&show_artwork=true&color=%23ff5500&hide_related=true&show_comments=false&show_user=true&show_reposts=false&show_teaser=false&visual=true',\n",
       "   'https://open.spotify.com/embed/track/3IRopjEQzdRC8oP98yUikY?theme=0',\n",
       "   'https://embed.music.apple.com/us/album/under-control-feat-hurts-extended-mix/772057010?i=772057017app=music&at=1000lwkw?'],\n",
       "  'binded_atoms': {'currentIndex': 'w/',\n",
       "   'metadata': {'name': 'Calvin Harris & Alesso ft. Hurts - Under Control (Acappella)',\n",
       "    'byArtist': 'Calvin Harris & Alesso',\n",
       "    'publisher': '<span class=\"blueTxt\"><span title=\"label\" class=\"trackLabel noWrap\"><a href=\"/label/x81317/columbia-records/index.html\" translate=\"no\" class=\"notranslate \" title=\"open label page\">Columbia</a> (<a href=\"/label/9mc9j7/sony-music/index.html\" translate=\"no\" class=\"notranslate \" title=\"open label page\">Sony</a>)</span></span>',\n",
       "    'duration': 'PT1M23S',\n",
       "    'url': '/track/rfyyjqx/calvin-harris-alesso-under-control-acappella/index.html'},\n",
       "   'time': ''}}}"
      ]
     },
     "execution_count": 170,
     "metadata": {},
     "output_type": "execute_result"
    }
   ],
   "source": [
    "set"
   ]
  },
  {
   "cell_type": "markdown",
   "metadata": {},
   "source": [
    "The following cleans up our instance"
   ]
  },
  {
   "cell_type": "code",
   "execution_count": 159,
   "metadata": {},
   "outputs": [],
   "source": [
    "saved_full_set = set"
   ]
  },
  {
   "cell_type": "code",
   "execution_count": 172,
   "metadata": {},
   "outputs": [],
   "source": [
    "file = \"_\".join([name, date_published]) + \".mx\"\n",
    "with open(file, 'wb') as file:\n",
    "    pickle.dump(saved_full_set, file)\n",
    "driver.quit()"
   ]
  },
  {
   "cell_type": "code",
   "execution_count": 181,
   "metadata": {},
   "outputs": [],
   "source": [
    "import random\n",
    "import string\n",
    "from datetime import datetime, timedelta\n",
    "from dataclasses import dataclass\n",
    "\n",
    "@dataclass\n",
    "class AtomicTrack:\n",
    "    index: str\n",
    "    name: str\n",
    "    artist: str\n",
    "    publisher: str\n",
    "    url: str\n",
    "    time: str\n",
    "    links: list[str]\n",
    "\n",
    "@dataclass\n",
    "class CompoundTrack:\n",
    "    index: str\n",
    "    name: str\n",
    "    artist: str\n",
    "    publisher: str\n",
    "    url: str\n",
    "    time: str\n",
    "    links: list[str]\n",
    "    binded_atoms: list[AtomicTrack]\n",
    "    invisible_atoms: list[AtomicTrack]\n",
    "\n",
    "@dataclass\n",
    "class Set:\n",
    "    name: str\n",
    "    date_published: str\n",
    "    num_tracks: str\n",
    "    url_link: str\n",
    "    tracks: list[CompoundTrack]"
   ]
  },
  {
   "cell_type": "code",
   "execution_count": null,
   "metadata": {},
   "outputs": [
    {
     "name": "stdout",
     "output_type": "stream",
     "text": [
      "Set(name='Synthwave Collection', date_published='2025-02-04', num_tracks='5', url_link='https://example.com/iXfaenOUij', tracks=[CompoundTrack(index='CT-0', name='CompoundTrack-mgtJ1L', artist='Artist-XFcvL', publisher='Publisher-9sFh', url='https://example.com/VSYLCeaNiP', time='3:56', links=['https://example.com/R0M295pAND', 'https://example.com/4Evn1HaFrk'], binded_atoms=[AtomicTrack(index='AT-0', name='AtomicTrack-LwFwQm', artist='Artist-21h31', publisher='Publisher-W4xx', url='https://example.com/arBOpcKJpt', time='0:55', links=['https://example.com/YK59mOeelu', 'https://example.com/2HhYkrhtQi', 'https://example.com/n7F2J03mW6']), AtomicTrack(index='AT-1', name='AtomicTrack-cneI92', artist='Artist-s19Ju', publisher='Publisher-t74h', url='https://example.com/ucnmG8KlC5', time='3:51', links=['https://example.com/IIEbbLYbD2', 'https://example.com/Zpr2Ba97WP', 'https://example.com/AtrYCAxm9t']), AtomicTrack(index='AT-2', name='AtomicTrack-m70LVL', artist='Artist-5Dwnf', publisher='Publisher-NiVA', url='https://example.com/RmgzkeP8y8', time='2:47', links=['https://example.com/COGMUFisaJ', 'https://example.com/8iBfAs7FTn', 'https://example.com/LpDZb8G2CL'])], invisible_atoms=[AtomicTrack(index='AT-10', name='AtomicTrack-FNaF1d', artist='Artist-YgOJV', publisher='Publisher-EGww', url='https://example.com/oQZvGlHnQG', time='5:15', links=['https://example.com/ftZwR8zAKW'])]), CompoundTrack(index='CT-1', name='CompoundTrack-bAAYBb', artist='Artist-VFDvD', publisher='Publisher-6jMs', url='https://example.com/LHcf6KoE3H', time='0:33', links=['https://example.com/X5ONTsCvWV'], binded_atoms=[AtomicTrack(index='AT-0', name='AtomicTrack-H6ycmh', artist='Artist-G4JfE', publisher='Publisher-xzOS', url='https://example.com/RzrdtER7Xb', time='5:49', links=['https://example.com/xCLDKLHMtf'])], invisible_atoms=[]), CompoundTrack(index='CT-2', name='CompoundTrack-Vj4dVZ', artist='Artist-13teJ', publisher='Publisher-UTA5', url='https://example.com/rLny6b5sOz', time='0:23', links=['https://example.com/Ad6AsdZKgo'], binded_atoms=[AtomicTrack(index='AT-0', name='AtomicTrack-DBhBdH', artist='Artist-Ucp5Q', publisher='Publisher-X8bV', url='https://example.com/FsZc1UIW3u', time='2:14', links=['https://example.com/lRj53gDAEz']), AtomicTrack(index='AT-1', name='AtomicTrack-FoSDnu', artist='Artist-04aB7', publisher='Publisher-7u19', url='https://example.com/264EoTPLMB', time='3:15', links=['https://example.com/0UJ2okDjYM'])], invisible_atoms=[AtomicTrack(index='AT-10', name='AtomicTrack-TVkdJs', artist='Artist-PXdPw', publisher='Publisher-iORu', url='https://example.com/uyqfm0LepJ', time='5:47', links=['https://example.com/XJjvQE0txk', 'https://example.com/dzKRD0kPQp'])]), CompoundTrack(index='CT-3', name='CompoundTrack-Q2yD2B', artist='Artist-Ls3OA', publisher='Publisher-rzzw', url='https://example.com/ej5fWohPQa', time='3:46', links=['https://example.com/D1LRcL2rn8'], binded_atoms=[AtomicTrack(index='AT-0', name='AtomicTrack-LKI4IU', artist='Artist-AU2ls', publisher='Publisher-eFqO', url='https://example.com/TG2EIaxkUF', time='5:34', links=['https://example.com/aUHhRclxyt', 'https://example.com/Xnq0Sk1lhV', 'https://example.com/vN0esEcSOw'])], invisible_atoms=[AtomicTrack(index='AT-10', name='AtomicTrack-126YeU', artist='Artist-FeIYm', publisher='Publisher-T1iV', url='https://example.com/GxSuYs5Me7', time='1:46', links=['https://example.com/PUFB7Snp84'])]), CompoundTrack(index='CT-4', name='CompoundTrack-kkNGHt', artist='Artist-xFWK2', publisher='Publisher-ma6H', url='https://example.com/fNwpu1hZcm', time='0:10', links=['https://example.com/ksTT7Zhp7Y', 'https://example.com/reIO89pdOp', 'https://example.com/PStVun7gB2'], binded_atoms=[AtomicTrack(index='AT-0', name='AtomicTrack-F2S8YJ', artist='Artist-h9wDb', publisher='Publisher-EEHq', url='https://example.com/g6ewkbU0eZ', time='0:27', links=['https://example.com/yRY9npfZFN'])], invisible_atoms=[AtomicTrack(index='AT-10', name='AtomicTrack-s9bHOg', artist='Artist-dqMm6', publisher='Publisher-2F22', url='https://example.com/TIhY0wAfFj', time='2:26', links=['https://example.com/M3Xs2fmU7e'])])])\n"
     ]
    }
   ],
   "source": [
    "# NB: ChatGPT Code!!\n",
    "\n",
    "def random_string(length=8):\n",
    "    return ''.join(random.choices(string.ascii_letters + string.digits, k=length))\n",
    "\n",
    "def random_url():\n",
    "    return f\"https://example.com/{random_string(10)}\"\n",
    "\n",
    "def random_time():\n",
    "    return f\"{random.randint(0, 5)}:{random.randint(0, 59):02d}\"  # Random duration in minutes:seconds\n",
    "\n",
    "def generate_atomic_track(index):\n",
    "    return AtomicTrack(\n",
    "        index=f\"AT-{index}\",\n",
    "        name=f\"AtomicTrack-{random_string(6)}\",\n",
    "        artist=f\"Artist-{random_string(5)}\",\n",
    "        publisher=f\"Publisher-{random_string(4)}\",\n",
    "        url=random_url(),\n",
    "        time=random_time(),\n",
    "        links=[random_url() for _ in range(random.randint(1, 3))]\n",
    "    )\n",
    "\n",
    "def generate_compound_track(index):\n",
    "    binded_atoms = [generate_atomic_track(i) for i in range(random.randint(1, 3))]\n",
    "    invisible_atoms = [generate_atomic_track(i + 10) for i in range(random.randint(0, 2))]\n",
    "    return CompoundTrack(\n",
    "        index=f\"CT-{index}\",\n",
    "        name=f\"CompoundTrack-{random_string(6)}\",\n",
    "        artist=f\"Artist-{random_string(5)}\",\n",
    "        publisher=f\"Publisher-{random_string(4)}\",\n",
    "        url=random_url(),\n",
    "        time=random_time(),\n",
    "        links=[random_url() for _ in range(random.randint(1, 3))],\n",
    "        binded_atoms=binded_atoms,\n",
    "        invisible_atoms=invisible_atoms\n",
    "    )\n",
    "\n",
    "def generate_set(name, num_tracks):\n",
    "    date_published = (datetime.now() - timedelta(days=random.randint(0, 365))).strftime(\"%Y-%m-%d\")\n",
    "    url_link = random_url()\n",
    "    tracks = [generate_compound_track(i) for i in range(num_tracks)]\n",
    "    return Set(name, date_published, str(num_tracks), url_link, tracks)\n",
    "\n",
    "# Generate a synthetic dataset with 5 songs\n",
    "synthetic_set = generate_set(\"Synthwave Collection\", 5)\n",
    "\n",
    "# Example output\n",
    "print(synthetic_set)"
   ]
  },
  {
   "cell_type": "code",
   "execution_count": null,
   "metadata": {},
   "outputs": [],
   "source": [
    "from graphviz import Digraph\n",
    "\n",
    "\n",
    "def trace(compound_song):\n",
    "    # builds a set of all nodes and edges in a graph\n",
    "    nodes, edges = set(), set()\n",
    "    def build(v):\n",
    "        if v not in nodes:\n",
    "            nodes.add(v)\n",
    "            for child in v.binded_atoms:\n",
    "                edges.add((child, v))\n",
    "                build(child)\n",
    "            for child in v.invisible_atoms:\n",
    "                edges.add((child, v))\n",
    "                build(child)\n",
    "    build(compound_song)\n",
    "    return nodes, edges\n",
    "\n",
    "def draw_dot(compound_song):\n",
    "    dot = Digraph(format='svg', graph_attr={'rankdir':'LR'}) # LR = left to right\n",
    "\n",
    "    nodes, edges = trace(compound_song)\n",
    "    for n in nodes:\n",
    "        uid = str(id(n))\n",
    "        # for any value in the graph, create a rectangular ('record') node for it\n",
    "        dot.node(name=uid, label= \"{name %s | index %s | time %s}\" % (n.name, n.index, n.time), shape='record')\n",
    "\n",
    "        if len(n.binded_atoms) != 0:\n",
    "            # if this value ios a result of some operation, create an op node for it\n",
    "            dot.node(name=uid + \"binded with\", label = \"binded with\")\n",
    "            # and connect this node to it\n",
    "            dot.edge(uid + \"binded with\", uid)\n",
    "        if len(n.invisible_atoms) != 0:\n",
    "            # if this value ios a result of some operation, create an op node for it\n",
    "            dot.node(name=uid + \"mashup with\", label = \"mashup with\")\n",
    "            # and connect this node to it\n",
    "            dot.edge(uid + \"mashup with\", uid)\n",
    "\n",
    "    for n1, n2 in edges:\n",
    "        # connect n1 to the op node of n2\n",
    "        dot.edge(str(id(n1)), str(id(n2)) + n2._op)\n",
    "    return dot"
   ]
  },
  {
   "cell_type": "code",
   "execution_count": null,
   "metadata": {},
   "outputs": [],
   "source": []
  }
 ],
 "metadata": {
  "kernelspec": {
   "display_name": "music_analysis",
   "language": "python",
   "name": "python3"
  },
  "language_info": {
   "codemirror_mode": {
    "name": "ipython",
    "version": 3
   },
   "file_extension": ".py",
   "mimetype": "text/x-python",
   "name": "python",
   "nbconvert_exporter": "python",
   "pygments_lexer": "ipython3",
   "version": "3.12.4"
  }
 },
 "nbformat": 4,
 "nbformat_minor": 2
}
