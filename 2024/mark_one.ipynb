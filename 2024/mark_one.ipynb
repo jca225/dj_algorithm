{
 "cells": [
  {
   "cell_type": "code",
   "execution_count": 54,
   "metadata": {},
   "outputs": [],
   "source": [
    "import numpy as np\n",
    "import librosa\n",
    "import matplotlib.pyplot as plt\n",
    "import torch"
   ]
  },
  {
   "cell_type": "code",
   "execution_count": 55,
   "metadata": {},
   "outputs": [],
   "source": [
    "# ChatGPT Code\n",
    "import os\n",
    "import random\n",
    "\n",
    "def sample_files_from_folder(folder_path, sample_size):\n",
    "    # Get all files in the folder\n",
    "    try:\n",
    "        all_files = [f for f in os.listdir(folder_path) if os.path.isfile(os.path.join(folder_path, f))]\n",
    "        all_files = [all_files[i] for i in range(len(all_files)) if str(all_files[i]).endswith('wav')]\n",
    "        if not all_files:\n",
    "            print(\"No files found in the folder.\")\n",
    "            return []\n",
    "\n",
    "        # Take a random sample\n",
    "        sample_size = min(sample_size, len(all_files))  # Ensure sample size is within bounds\n",
    "        sampled_files = random.sample(all_files, sample_size)\n",
    "        return [os.path.join(folder_path, f) for f in sampled_files]\n",
    "    except FileNotFoundError:\n",
    "        print(\"The specified folder does not exist.\")\n",
    "        return []"
   ]
  },
  {
   "cell_type": "code",
   "execution_count": null,
   "metadata": {},
   "outputs": [
    {
     "name": "stdout",
     "output_type": "stream",
     "text": [
      "['/Users/johncabrahams/Music/SantaCon/RSCL, Repiet, Julia Kleijn - Echo.wav', '/Users/johncabrahams/Music/SantaCon/John Summit, HAYLA - Where You Are.wav', \"/Users/johncabrahams/Music/SantaCon/Cloonee - Sippin' Yak.wav\", '/Users/johncabrahams/Music/SantaCon/NEIL FRANCES - Music Sounds Better with You.wav', '/Users/johncabrahams/Music/SantaCon/Galantis, Throttle - Tell Me You Love Me.wav', '/Users/johncabrahams/Music/SantaCon/FISHER, Jennifer Lopez - Waiting For Tonight.wav', '/Users/johncabrahams/Music/SantaCon/J. Worra, Leo Stannard - Check Out.wav', '/Users/johncabrahams/Music/SantaCon/Loofy - Last Night.wav', '/Users/johncabrahams/Music/SantaCon/Bastille - Good Grief - Don Diablo Remix.wav', '/Users/johncabrahams/Music/SantaCon/James Hype, Major Lazer - Number 1.wav', '/Users/johncabrahams/Music/SantaCon/Tobiahs - Lifetime.wav', '/Users/johncabrahams/Music/SantaCon/Chris Lake, Aluna - More Baby.wav', '/Users/johncabrahams/Music/SantaCon/Cloonee, Young M.A, InntRaw - Stephanie.wav', '/Users/johncabrahams/Music/SantaCon/Deerock - Wait For Me.wav', '/Users/johncabrahams/Music/SantaCon/Kygo, Ava Max - Whatever.wav', '/Users/johncabrahams/Music/SantaCon/James Hype - Lose Control.wav', \"/Users/johncabrahams/Music/SantaCon/David Guetta, OneRepublic - I Don't Wanna Wait.wav\", '/Users/johncabrahams/Music/SantaCon/James Hype - Wild.wav', '/Users/johncabrahams/Music/SantaCon/The Blessed Madonna - Happier (feat. Clementine Douglas).wav', '/Users/johncabrahams/Music/SantaCon/KREAM - So Hï.wav', '/Users/johncabrahams/Music/SantaCon/Calvin Harris - How Deep Is Your Love - Disciples & Unorthodox Remix.wav', '/Users/johncabrahams/Music/SantaCon/Sonny Fodera, MK, Clementine Douglas - Asking.wav', '/Users/johncabrahams/Music/SantaCon/Andruss - Frikitona.wav', '/Users/johncabrahams/Music/SantaCon/Becky Hill - Outside Of Love.wav', '/Users/johncabrahams/Music/SantaCon/Riordan - Needle On The Record.wav', '/Users/johncabrahams/Music/SantaCon/Matroda, Martin Ikin, Sian-Lee - 4U.wav', '/Users/johncabrahams/Music/SantaCon/Jengi - Take U.wav', '/Users/johncabrahams/Music/SantaCon/The Temper Trap - Sweet Disposition - John Summit & Silver Panda Remix.wav', '/Users/johncabrahams/Music/SantaCon/Daniel Allan - I Just Need (with Lyrah).wav', '/Users/johncabrahams/Music/SantaCon/Seven Lions, ILLENIUM, ÁSDÍS - Not Even Love.wav']\n"
     ]
    }
   ],
   "source": [
    "folder_path = \"/Users/johncabrahams/Music/SantaCon\"\n",
    "sample_size = 30\n",
    "sampled_files = sample_files_from_folder(folder_path, sample_size)\n",
    "print(sampled_files)\n",
    "\n",
    "audio_time_series = []\n",
    "for i in range(len(sampled_files)):\n",
    "    file = sampled_files[i]\n",
    "    audio_time_series.append(librosa.load(file, sr=None)[0])   \n"
   ]
  },
  {
   "cell_type": "code",
   "execution_count": 72,
   "metadata": {},
   "outputs": [
    {
     "name": "stdout",
     "output_type": "stream",
     "text": [
      "30\n"
     ]
    },
    {
     "data": {
      "text/plain": [
       "16092608"
      ]
     },
     "execution_count": 72,
     "metadata": {},
     "output_type": "execute_result"
    }
   ],
   "source": [
    "vocab_size = max([len(series_np_array) for series_np_array in audio_time_series])\n",
    "tensor_time_series = [torch.from_numpy(series_np_array) for series_np_array in audio_time_series]\n",
    "padded_tensors = torch.nn.utils.rnn.pad_sequence(tensor_time_series, batch_first=True, padding_value=0)"
   ]
  },
  {
   "cell_type": "markdown",
   "metadata": {},
   "source": [
    "So now we have a sequence of audio files, and we would like to predict the sequence using a transformer GPT architecture."
   ]
  },
  {
   "cell_type": "code",
   "execution_count": null,
   "metadata": {},
   "outputs": [],
   "source": [
    "import models\n",
    "import trainer\n",
    "\n",
    "block_size = 128\n",
    "mconf = models.GPTConfig(\n",
    "    vocab_size,\n",
    "    block_size,\n",
    "    n_layer=4,\n",
    "    n_head=8,\n",
    "    n_embd=256)\n",
    "\n",
    "tconf = trainer.TrainerConfig(max_epochs=75, batch_size=256, learning_rate=args.finetune_lr, lr_decay=True, \\\n",
    "                                      warmup_tokens=512*20, final_tokens=200*len(pretrain_dataset)*block_size, num_workers=4, \\\n",
    "                                      writer=writer)"
   ]
  },
  {
   "cell_type": "code",
   "execution_count": null,
   "metadata": {},
   "outputs": [],
   "source": []
  }
 ],
 "metadata": {
  "kernelspec": {
   "display_name": "music_analysis",
   "language": "python",
   "name": "python3"
  },
  "language_info": {
   "codemirror_mode": {
    "name": "ipython",
    "version": 3
   },
   "file_extension": ".py",
   "mimetype": "text/x-python",
   "name": "python",
   "nbconvert_exporter": "python",
   "pygments_lexer": "ipython3",
   "version": "3.12.4"
  }
 },
 "nbformat": 4,
 "nbformat_minor": 2
}
